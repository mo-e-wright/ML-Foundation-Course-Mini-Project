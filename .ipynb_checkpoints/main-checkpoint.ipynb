{
 "cells": [
  {
   "cell_type": "code",
   "execution_count": 1,
   "metadata": {},
   "outputs": [],
   "source": [
    "import numpy as np\n",
    "import matplotlib.pyplot as plt\n",
    "import iris\n",
    "import pandas as pd"
   ]
  },
  {
   "cell_type": "code",
   "execution_count": 2,
   "metadata": {},
   "outputs": [],
   "source": [
    "DATADIR = '/net/home/h02/emwright/Documents/ML_Foundation_Course/Project/Data'\n",
    "\n",
    "ERA5_precip = iris.load_cube(f'{DATADIR}/climate/amazon_lowlandprecip_ERA5.nc')\n",
    "ERA5_temp = iris.load_cube(f'{DATADIR}/climate/amazon_lowlandtemp_ERA5.nc')\n",
    "elevation = iris.load_cube(f'{DATADIR}/elevation/amazon_lowland_elevation.nc')\n"
   ]
  },
  {
   "cell_type": "code",
   "execution_count": 3,
   "metadata": {},
   "outputs": [
    {
     "ename": "",
     "evalue": "",
     "output_type": "error",
     "traceback": [
      "\u001b[1;31mThe Kernel crashed while executing code in the the current cell or a previous cell. Please review the code in the cell(s) to identify a possible cause of the failure. Click <a href='https://aka.ms/vscodeJupyterKernelCrash'>here</a> for more info. View Jupyter <a href='command:jupyter.viewOutput'>log</a> for further details."
     ]
    }
   ],
   "source": [
    "# from mpl_toolkits.mplot3d import Axes3D\n",
    "import plotly.express as px\n",
    "#use plotly to create 3d scatter plot of temp, precip and elevation\n",
    "fig = px.scatter_3d(x=ERA5_temp.data, y=ERA5_precip.data, z=elevation.data, title = 'Temperature vs Precipitation vs Elevation')\n",
    "fig.update_layout(scene = dict(\n",
    "                    xaxis_title='Temperature',\n",
    "                    yaxis_title='Precipitation',\n",
    "                    zaxis_title='Elevation'))\n",
    "fig.show()\n",
    "\n",
    "\n",
    "# fig.show()\n",
    "# #3d scatter plot of temp, precip and elevation\n",
    "# fig = plt.figure()\n",
    "# ax = fig.add_subplot(111, projection='3d')\n",
    "# ax.scatter(ERA5_temp.data, ERA5_precip.data, elevation.data, alpha = 0.5)\n",
    "# ax.set_xlabel('Temperature')\n",
    "# ax.set_ylabel('Precipitation')\n",
    "# ax.set_zlabel('Elevation')\n",
    "# plt.title('Temperature vs Precipitation vs Elevation')\n",
    "# plt.show()\n",
    "\n",
    "\n",
    "# #plot temp, precip on scatter plot\n",
    "# plt.scatter(ERA5_temp.data, ERA5_precip.data, alpha = 0.5, s = 0.5)\n",
    "# plt.xlabel('Temperature')\n",
    "# plt.ylabel('Precipitation')\n",
    "# plt.title('Temperature vs Precipitation')\n",
    "# plt.show()\n",
    "\n",
    "\n",
    "\n"
   ]
  },
  {
   "cell_type": "code",
   "execution_count": 17,
   "metadata": {},
   "outputs": [
    {
     "name": "stdout",
     "output_type": "stream",
     "text": [
      "[[-3.4e+38 -3.4e+38 -3.4e+38 ... -3.4e+38 -3.4e+38 -3.4e+38]\n",
      " [-3.4e+38 -3.4e+38 -3.4e+38 ... -3.4e+38 -3.4e+38 -3.4e+38]\n",
      " [-3.4e+38 -3.4e+38 -3.4e+38 ... -3.4e+38 -3.4e+38 -3.4e+38]\n",
      " ...\n",
      " [-3.4e+38 -3.4e+38 -3.4e+38 ... -3.4e+38 -3.4e+38 -3.4e+38]\n",
      " [-3.4e+38 -3.4e+38 -3.4e+38 ... -3.4e+38 -3.4e+38 -3.4e+38]\n",
      " [-3.4e+38 -3.4e+38 -3.4e+38 ... -3.4e+38 -3.4e+38 -3.4e+38]]\n",
      "(267, 350)\n"
     ]
    }
   ],
   "source": [
    "#normalize data\n",
    "def normalize_data(data):\n",
    "    return (data - np.mean(data))/np.std(data)\n",
    "\n",
    "ERA5_temp_norm = normalize_data(ERA5_temp.data)\n",
    "ERA5_precip_norm = normalize_data(ERA5_precip.data)\n",
    "\n",
    "#print shape of data\n",
    "print(ERA5_temp_norm.data)\n",
    "print(ERA5_precip_norm.data.shape)\n"
   ]
  },
  {
   "cell_type": "code",
   "execution_count": null,
   "metadata": {},
   "outputs": [],
   "source": [
    "from sklearn.cluster import KMeans\n",
    "\n",
    "kmeans = KMeans(n_clusters=2, random_state=0, n_init=\"auto\")\n",
    "kmeans.fit(geyser_normalised)\n",
    "\n",
    "\n",
    "\n",
    "fig, ax = plt.subplots(1,2, figsize=(12, 5))\n",
    "# Plot in the scaled and unscaled coordinates.  \n",
    "\n",
    "\n",
    "h = ax[0].scatter(*geyser_normalised.T, c=kmeans.labels_, cmap='Spectral')\n",
    "n = len(np.unique(kmeans.labels_))\n",
    "fig.colorbar(h, boundaries=np.arange(n+1)-0.5).set_ticks(np.arange(n))\n",
    "ax[0].set_xlabel('Normalised Waiting time')\n",
    "ax[0].set_ylabel('Normalised Duration')\n",
    "for i in range(kmeans.n_clusters):\n",
    "    ax[0].plot(*kmeans.cluster_centers_[i,:], marker='s', ms=12, color=\"r\")\n",
    "\n",
    "ax[1].scatter(*geyser.T, c=kmeans.labels_, cmap='Spectral')\n",
    "ax[1].set_xlabel('Waiting time')\n",
    "ax[1].set_ylabel('Duration')\n",
    "ax[1].axis('scaled')"
   ]
  }
 ],
 "metadata": {
  "kernelspec": {
   "display_name": "ml_workshop_env",
   "language": "python",
   "name": "python3"
  },
  "language_info": {
   "codemirror_mode": {
    "name": "ipython",
    "version": 3
   },
   "file_extension": ".py",
   "mimetype": "text/x-python",
   "name": "python",
   "nbconvert_exporter": "python",
   "pygments_lexer": "ipython3",
   "version": "3.9.21"
  }
 },
 "nbformat": 4,
 "nbformat_minor": 2
}
